{
 "cells": [
  {
   "cell_type": "code",
   "execution_count": 1,
   "id": "160b5d8a",
   "metadata": {
    "_cell_guid": "52580dcc-a1fb-4256-9dc0-d07486d64f1f",
    "_uuid": "f35c1740-3aa8-40d4-b7bd-abfc619cf858",
    "collapsed": false,
    "execution": {
     "iopub.execute_input": "2024-08-13T17:47:18.835485Z",
     "iopub.status.busy": "2024-08-13T17:47:18.835049Z",
     "iopub.status.idle": "2024-08-13T17:47:19.822213Z",
     "shell.execute_reply": "2024-08-13T17:47:19.820860Z"
    },
    "jupyter": {
     "outputs_hidden": false
    },
    "papermill": {
     "duration": 0.997194,
     "end_time": "2024-08-13T17:47:19.824925",
     "exception": false,
     "start_time": "2024-08-13T17:47:18.827731",
     "status": "completed"
    },
    "tags": []
   },
   "outputs": [
    {
     "name": "stdout",
     "output_type": "stream",
     "text": [
      "/kaggle/input/egyptian-doctors/Egyptian Doctors Data.csv\n"
     ]
    }
   ],
   "source": [
    "# This Python 3 environment comes with many helpful analytics libraries installed\n",
    "# It is defined by the kaggle/python Docker image: https://github.com/kaggle/docker-python\n",
    "# For example, here's several helpful packages to load\n",
    "\n",
    "import numpy as np # linear algebra\n",
    "import pandas as pd # data processing, CSV file I/O (e.g. pd.read_csv)\n",
    "\n",
    "# Input data files are available in the read-only \"../input/\" directory\n",
    "# For example, running this (by clicking run or pressing Shift+Enter) will list all files under the input directory\n",
    "\n",
    "import os\n",
    "for dirname, _, filenames in os.walk('/kaggle/input'):\n",
    "    for filename in filenames:\n",
    "        print(os.path.join(dirname, filename))\n",
    "\n",
    "# You can write up to 20GB to the current directory (/kaggle/working/) that gets preserved as output when you create a version using \"Save & Run All\" \n",
    "# You can also write temporary files to /kaggle/temp/, but they won't be saved outside of the current session"
   ]
  },
  {
   "cell_type": "markdown",
   "id": "e7e89c67",
   "metadata": {
    "papermill": {
     "duration": 0.0049,
     "end_time": "2024-08-13T17:47:19.835709",
     "exception": false,
     "start_time": "2024-08-13T17:47:19.830809",
     "status": "completed"
    },
    "tags": []
   },
   "source": [
    "# **Import Liberaries**"
   ]
  },
  {
   "cell_type": "code",
   "execution_count": 2,
   "id": "20af29f0",
   "metadata": {
    "_cell_guid": "822a434b-6a49-4bde-84b0-941d501f499a",
    "_uuid": "d4f585a9-46b3-49b0-935c-44777f71f989",
    "collapsed": false,
    "execution": {
     "iopub.execute_input": "2024-08-13T17:47:19.847716Z",
     "iopub.status.busy": "2024-08-13T17:47:19.847216Z",
     "iopub.status.idle": "2024-08-13T17:47:21.319676Z",
     "shell.execute_reply": "2024-08-13T17:47:21.318496Z"
    },
    "jupyter": {
     "outputs_hidden": false
    },
    "papermill": {
     "duration": 1.481602,
     "end_time": "2024-08-13T17:47:21.322412",
     "exception": false,
     "start_time": "2024-08-13T17:47:19.840810",
     "status": "completed"
    },
    "tags": []
   },
   "outputs": [],
   "source": [
    "import numpy as np\n",
    "import pandas as pd\n",
    "import matplotlib.pyplot as plt\n",
    "import seaborn as sns"
   ]
  },
  {
   "cell_type": "markdown",
   "id": "165e08ca",
   "metadata": {
    "papermill": {
     "duration": 0.00485,
     "end_time": "2024-08-13T17:47:21.332589",
     "exception": false,
     "start_time": "2024-08-13T17:47:21.327739",
     "status": "completed"
    },
    "tags": []
   },
   "source": [
    "# **Import Data**"
   ]
  },
  {
   "cell_type": "code",
   "execution_count": 3,
   "id": "5a32e8d1",
   "metadata": {
    "_cell_guid": "cfe2170d-2777-4d82-a86c-609f57cf297e",
    "_uuid": "faaa4b70-068c-4f51-afc2-a09e047f61e7",
    "collapsed": false,
    "execution": {
     "iopub.execute_input": "2024-08-13T17:47:21.344478Z",
     "iopub.status.busy": "2024-08-13T17:47:21.344059Z",
     "iopub.status.idle": "2024-08-13T17:47:21.418163Z",
     "shell.execute_reply": "2024-08-13T17:47:21.416968Z"
    },
    "jupyter": {
     "outputs_hidden": false
    },
    "papermill": {
     "duration": 0.082968,
     "end_time": "2024-08-13T17:47:21.420585",
     "exception": false,
     "start_time": "2024-08-13T17:47:21.337617",
     "status": "completed"
    },
    "tags": []
   },
   "outputs": [
    {
     "data": {
      "text/html": [
       "<div>\n",
       "<style scoped>\n",
       "    .dataframe tbody tr th:only-of-type {\n",
       "        vertical-align: middle;\n",
       "    }\n",
       "\n",
       "    .dataframe tbody tr th {\n",
       "        vertical-align: top;\n",
       "    }\n",
       "\n",
       "    .dataframe thead th {\n",
       "        text-align: right;\n",
       "    }\n",
       "</style>\n",
       "<table border=\"1\" class=\"dataframe\">\n",
       "  <thead>\n",
       "    <tr style=\"text-align: right;\">\n",
       "      <th></th>\n",
       "      <th>Source</th>\n",
       "      <th>web_scraper_order</th>\n",
       "      <th>specialization</th>\n",
       "      <th>fees</th>\n",
       "      <th>avg_rate</th>\n",
       "      <th>waiting_time</th>\n",
       "      <th>clinic_location</th>\n",
       "      <th>rate_count</th>\n",
       "      <th>doctor_views</th>\n",
       "      <th>pages</th>\n",
       "    </tr>\n",
       "  </thead>\n",
       "  <tbody>\n",
       "    <tr>\n",
       "      <th>0</th>\n",
       "      <td>0 (1)</td>\n",
       "      <td>1676137334-729</td>\n",
       "      <td>Physiotherapist</td>\n",
       "      <td>65 EGP</td>\n",
       "      <td>5.0</td>\n",
       "      <td>Waiting Time : 15 Minutes</td>\n",
       "      <td>El-Mansoura</td>\n",
       "      <td>From 16 Visitors</td>\n",
       "      <td>1,707 View(s)</td>\n",
       "      <td>1048</td>\n",
       "    </tr>\n",
       "    <tr>\n",
       "      <th>1</th>\n",
       "      <td>1 (1)</td>\n",
       "      <td>1676137337-730</td>\n",
       "      <td>Dermatologist</td>\n",
       "      <td>200 EGP</td>\n",
       "      <td>4.5</td>\n",
       "      <td>Waiting Time : 35 Minutes</td>\n",
       "      <td>El-Ibrahimia</td>\n",
       "      <td>From 68 Visitors</td>\n",
       "      <td>8,188 View(s)</td>\n",
       "      <td>1048</td>\n",
       "    </tr>\n",
       "    <tr>\n",
       "      <th>2</th>\n",
       "      <td>2 (1)</td>\n",
       "      <td>1676137340-731</td>\n",
       "      <td>Orthopedist</td>\n",
       "      <td>250 EGP</td>\n",
       "      <td>4.5</td>\n",
       "      <td>Waiting Time : 31 Minutes</td>\n",
       "      <td>6th of October</td>\n",
       "      <td>From 29 Visitors</td>\n",
       "      <td>1,745 View(s)</td>\n",
       "      <td>1048</td>\n",
       "    </tr>\n",
       "    <tr>\n",
       "      <th>3</th>\n",
       "      <td>3 (1)</td>\n",
       "      <td>1676137343-732</td>\n",
       "      <td>Gynecologist</td>\n",
       "      <td>150 EGP</td>\n",
       "      <td>NaN</td>\n",
       "      <td>NaN</td>\n",
       "      <td>El-Haram</td>\n",
       "      <td>NaN</td>\n",
       "      <td>1,155 View(s)</td>\n",
       "      <td>1048</td>\n",
       "    </tr>\n",
       "    <tr>\n",
       "      <th>4</th>\n",
       "      <td>4 (1)</td>\n",
       "      <td>1676137345-733</td>\n",
       "      <td>Dermatologist</td>\n",
       "      <td>200 EGP</td>\n",
       "      <td>5.0</td>\n",
       "      <td>Waiting Time : 20 Minutes</td>\n",
       "      <td>Nasr City</td>\n",
       "      <td>From 90 Visitors</td>\n",
       "      <td>4,054 View(s)</td>\n",
       "      <td>1048</td>\n",
       "    </tr>\n",
       "    <tr>\n",
       "      <th>...</th>\n",
       "      <td>...</td>\n",
       "      <td>...</td>\n",
       "      <td>...</td>\n",
       "      <td>...</td>\n",
       "      <td>...</td>\n",
       "      <td>...</td>\n",
       "      <td>...</td>\n",
       "      <td>...</td>\n",
       "      <td>...</td>\n",
       "      <td>...</td>\n",
       "    </tr>\n",
       "    <tr>\n",
       "      <th>1205</th>\n",
       "      <td>1205 (1)</td>\n",
       "      <td>1676128113-21</td>\n",
       "      <td>Urologist</td>\n",
       "      <td>600 EGP</td>\n",
       "      <td>4.0</td>\n",
       "      <td>Waiting Time : 26 Minutes</td>\n",
       "      <td>El-Mohandessin :  shehab street</td>\n",
       "      <td>From 51 Visitors</td>\n",
       "      <td>10,303 View(s)</td>\n",
       "      <td>NaN</td>\n",
       "    </tr>\n",
       "    <tr>\n",
       "      <th>1206</th>\n",
       "      <td>1206 (1)</td>\n",
       "      <td>1676128119-22</td>\n",
       "      <td>Hepatologist</td>\n",
       "      <td>360 EGP</td>\n",
       "      <td>4.0</td>\n",
       "      <td>Waiting Time : 1 Hour and 5 Minutes</td>\n",
       "      <td>El-Dokki : altahrir</td>\n",
       "      <td>From 188 Visitors</td>\n",
       "      <td>30,124 View(s)</td>\n",
       "      <td>NaN</td>\n",
       "    </tr>\n",
       "    <tr>\n",
       "      <th>1207</th>\n",
       "      <td>1207 (1)</td>\n",
       "      <td>1676128125-23</td>\n",
       "      <td>Gynecologist</td>\n",
       "      <td>210 EGP</td>\n",
       "      <td>4.5</td>\n",
       "      <td>Waiting Time : 13 Minutes</td>\n",
       "      <td>El-Mansoura : abbasi street</td>\n",
       "      <td>From 100 Visitors</td>\n",
       "      <td>9,409 View(s)</td>\n",
       "      <td>NaN</td>\n",
       "    </tr>\n",
       "    <tr>\n",
       "      <th>1208</th>\n",
       "      <td>1208 (1)</td>\n",
       "      <td>1676128129-24</td>\n",
       "      <td>Internist</td>\n",
       "      <td>250 EGP</td>\n",
       "      <td>4.0</td>\n",
       "      <td>Waiting Time : 31 Minutes</td>\n",
       "      <td>Faisal</td>\n",
       "      <td>From 103 Visitors</td>\n",
       "      <td>7,555 View(s)</td>\n",
       "      <td>NaN</td>\n",
       "    </tr>\n",
       "    <tr>\n",
       "      <th>1209</th>\n",
       "      <td>1209 (1)</td>\n",
       "      <td>1676128132-25</td>\n",
       "      <td>Ophthalmologist</td>\n",
       "      <td>200 EGP</td>\n",
       "      <td>5.0</td>\n",
       "      <td>Waiting Time : 17 Minutes</td>\n",
       "      <td>Faisal : 27elshahid Ahmad Hamdy</td>\n",
       "      <td>From 122 Visitors</td>\n",
       "      <td>7,215 View(s)</td>\n",
       "      <td>NaN</td>\n",
       "    </tr>\n",
       "  </tbody>\n",
       "</table>\n",
       "<p>1210 rows × 10 columns</p>\n",
       "</div>"
      ],
      "text/plain": [
       "        Source web_scraper_order   specialization     fees  avg_rate  \\\n",
       "0        0 (1)    1676137334-729  Physiotherapist   65 EGP       5.0   \n",
       "1        1 (1)    1676137337-730    Dermatologist  200 EGP       4.5   \n",
       "2        2 (1)    1676137340-731      Orthopedist  250 EGP       4.5   \n",
       "3        3 (1)    1676137343-732     Gynecologist  150 EGP       NaN   \n",
       "4        4 (1)    1676137345-733    Dermatologist  200 EGP       5.0   \n",
       "...        ...               ...              ...      ...       ...   \n",
       "1205  1205 (1)     1676128113-21        Urologist  600 EGP       4.0   \n",
       "1206  1206 (1)     1676128119-22     Hepatologist  360 EGP       4.0   \n",
       "1207  1207 (1)     1676128125-23     Gynecologist  210 EGP       4.5   \n",
       "1208  1208 (1)     1676128129-24        Internist  250 EGP       4.0   \n",
       "1209  1209 (1)     1676128132-25  Ophthalmologist  200 EGP       5.0   \n",
       "\n",
       "                             waiting_time                  clinic_location  \\\n",
       "0               Waiting Time : 15 Minutes                      El-Mansoura   \n",
       "1               Waiting Time : 35 Minutes                     El-Ibrahimia   \n",
       "2               Waiting Time : 31 Minutes                   6th of October   \n",
       "3                                     NaN                         El-Haram   \n",
       "4               Waiting Time : 20 Minutes                        Nasr City   \n",
       "...                                   ...                              ...   \n",
       "1205            Waiting Time : 26 Minutes  El-Mohandessin :  shehab street   \n",
       "1206  Waiting Time : 1 Hour and 5 Minutes              El-Dokki : altahrir   \n",
       "1207            Waiting Time : 13 Minutes      El-Mansoura : abbasi street   \n",
       "1208            Waiting Time : 31 Minutes                           Faisal   \n",
       "1209            Waiting Time : 17 Minutes  Faisal : 27elshahid Ahmad Hamdy   \n",
       "\n",
       "             rate_count    doctor_views pages  \n",
       "0      From 16 Visitors   1,707 View(s)  1048  \n",
       "1      From 68 Visitors   8,188 View(s)  1048  \n",
       "2      From 29 Visitors   1,745 View(s)  1048  \n",
       "3                   NaN   1,155 View(s)  1048  \n",
       "4      From 90 Visitors   4,054 View(s)  1048  \n",
       "...                 ...             ...   ...  \n",
       "1205   From 51 Visitors  10,303 View(s)   NaN  \n",
       "1206  From 188 Visitors  30,124 View(s)   NaN  \n",
       "1207  From 100 Visitors   9,409 View(s)   NaN  \n",
       "1208  From 103 Visitors   7,555 View(s)   NaN  \n",
       "1209  From 122 Visitors   7,215 View(s)   NaN  \n",
       "\n",
       "[1210 rows x 10 columns]"
      ]
     },
     "execution_count": 3,
     "metadata": {},
     "output_type": "execute_result"
    }
   ],
   "source": [
    "data = pd.read_csv('/kaggle/input/egyptian-doctors/Egyptian Doctors Data.csv')\n",
    "data"
   ]
  },
  {
   "cell_type": "markdown",
   "id": "41231880",
   "metadata": {
    "papermill": {
     "duration": 0.005526,
     "end_time": "2024-08-13T17:47:21.432025",
     "exception": false,
     "start_time": "2024-08-13T17:47:21.426499",
     "status": "completed"
    },
    "tags": []
   },
   "source": [
    "# **Display info about data**"
   ]
  },
  {
   "cell_type": "code",
   "execution_count": 4,
   "id": "b8becfac",
   "metadata": {
    "_cell_guid": "32096c48-4f21-4ec0-a6f1-bd7f6d7ae5af",
    "_uuid": "6d37b3c2-cf6d-40ef-8403-3a169ccb5eb1",
    "collapsed": false,
    "execution": {
     "iopub.execute_input": "2024-08-13T17:47:21.445374Z",
     "iopub.status.busy": "2024-08-13T17:47:21.444970Z",
     "iopub.status.idle": "2024-08-13T17:47:21.452427Z",
     "shell.execute_reply": "2024-08-13T17:47:21.451228Z"
    },
    "jupyter": {
     "outputs_hidden": false
    },
    "papermill": {
     "duration": 0.017724,
     "end_time": "2024-08-13T17:47:21.455752",
     "exception": false,
     "start_time": "2024-08-13T17:47:21.438028",
     "status": "completed"
    },
    "tags": []
   },
   "outputs": [
    {
     "name": "stdout",
     "output_type": "stream",
     "text": [
      "1210 is number of rows\n",
      "10 is number of columns\n",
      "12100 is number of data\n"
     ]
    }
   ],
   "source": [
    "print(f\"{data.shape[0]} is number of rows\")\n",
    "print(f\"{data.shape[1]} is number of columns\")\n",
    "print(f\"{data.size} is number of data\")"
   ]
  },
  {
   "cell_type": "code",
   "execution_count": 5,
   "id": "01b74a12",
   "metadata": {
    "_cell_guid": "3b17ac7b-daf5-43cb-aeff-c3f8ea713efd",
    "_uuid": "4d919739-a99b-491c-9f5e-fea698282c77",
    "collapsed": false,
    "execution": {
     "iopub.execute_input": "2024-08-13T17:47:21.469110Z",
     "iopub.status.busy": "2024-08-13T17:47:21.468740Z",
     "iopub.status.idle": "2024-08-13T17:47:21.493949Z",
     "shell.execute_reply": "2024-08-13T17:47:21.492674Z"
    },
    "jupyter": {
     "outputs_hidden": false
    },
    "papermill": {
     "duration": 0.035551,
     "end_time": "2024-08-13T17:47:21.497164",
     "exception": false,
     "start_time": "2024-08-13T17:47:21.461613",
     "status": "completed"
    },
    "tags": []
   },
   "outputs": [
    {
     "name": "stdout",
     "output_type": "stream",
     "text": [
      "<class 'pandas.core.frame.DataFrame'>\n",
      "RangeIndex: 1210 entries, 0 to 1209\n",
      "Data columns (total 10 columns):\n",
      " #   Column             Non-Null Count  Dtype  \n",
      "---  ------             --------------  -----  \n",
      " 0   Source             1210 non-null   object \n",
      " 1   web_scraper_order  1210 non-null   object \n",
      " 2   specialization     1208 non-null   object \n",
      " 3   fees               1209 non-null   object \n",
      " 4   avg_rate           1151 non-null   float64\n",
      " 5   waiting_time       1152 non-null   object \n",
      " 6   clinic_location    927 non-null    object \n",
      " 7   rate_count         1153 non-null   object \n",
      " 8   doctor_views       1208 non-null   object \n",
      " 9   pages              845 non-null    object \n",
      "dtypes: float64(1), object(9)\n",
      "memory usage: 94.7+ KB\n"
     ]
    }
   ],
   "source": [
    "data.info()"
   ]
  },
  {
   "cell_type": "code",
   "execution_count": 6,
   "id": "b7687e83",
   "metadata": {
    "_cell_guid": "98ad3d5e-db82-4d8f-ad71-1c8b0c92c2cd",
    "_uuid": "6183a03e-215d-4ed0-a6e5-25be853a1fb7",
    "collapsed": false,
    "execution": {
     "iopub.execute_input": "2024-08-13T17:47:21.510933Z",
     "iopub.status.busy": "2024-08-13T17:47:21.510568Z",
     "iopub.status.idle": "2024-08-13T17:47:21.520729Z",
     "shell.execute_reply": "2024-08-13T17:47:21.519598Z"
    },
    "jupyter": {
     "outputs_hidden": false
    },
    "papermill": {
     "duration": 0.019979,
     "end_time": "2024-08-13T17:47:21.523246",
     "exception": false,
     "start_time": "2024-08-13T17:47:21.503267",
     "status": "completed"
    },
    "tags": []
   },
   "outputs": [
    {
     "data": {
      "text/plain": [
       "Source                 0\n",
       "web_scraper_order      0\n",
       "specialization         2\n",
       "fees                   1\n",
       "avg_rate              59\n",
       "waiting_time          58\n",
       "clinic_location      283\n",
       "rate_count            57\n",
       "doctor_views           2\n",
       "pages                365\n",
       "dtype: int64"
      ]
     },
     "execution_count": 6,
     "metadata": {},
     "output_type": "execute_result"
    }
   ],
   "source": [
    "data.isnull().sum()"
   ]
  },
  {
   "cell_type": "code",
   "execution_count": 7,
   "id": "dd5d01f1",
   "metadata": {
    "execution": {
     "iopub.execute_input": "2024-08-13T17:47:21.537261Z",
     "iopub.status.busy": "2024-08-13T17:47:21.536840Z",
     "iopub.status.idle": "2024-08-13T17:47:21.547740Z",
     "shell.execute_reply": "2024-08-13T17:47:21.546658Z"
    },
    "papermill": {
     "duration": 0.020782,
     "end_time": "2024-08-13T17:47:21.550242",
     "exception": false,
     "start_time": "2024-08-13T17:47:21.529460",
     "status": "completed"
    },
    "tags": []
   },
   "outputs": [
    {
     "data": {
      "text/plain": [
       "Source                0.0\n",
       "web_scraper_order     0.0\n",
       "specialization        0.2\n",
       "fees                  0.1\n",
       "avg_rate              5.9\n",
       "waiting_time          5.8\n",
       "clinic_location      28.3\n",
       "rate_count            5.7\n",
       "doctor_views          0.2\n",
       "pages                36.5\n",
       "dtype: float64"
      ]
     },
     "execution_count": 7,
     "metadata": {},
     "output_type": "execute_result"
    }
   ],
   "source": [
    "# Percentage of null\n",
    "data.isnull().sum()/1000*100"
   ]
  },
  {
   "cell_type": "markdown",
   "id": "5bf73b45",
   "metadata": {
    "papermill": {
     "duration": 0.005974,
     "end_time": "2024-08-13T17:47:21.562519",
     "exception": false,
     "start_time": "2024-08-13T17:47:21.556545",
     "status": "completed"
    },
    "tags": []
   },
   "source": [
    "# **Cleaning of data**"
   ]
  },
  {
   "cell_type": "code",
   "execution_count": 8,
   "id": "0686a30f",
   "metadata": {
    "execution": {
     "iopub.execute_input": "2024-08-13T17:47:21.576640Z",
     "iopub.status.busy": "2024-08-13T17:47:21.576240Z",
     "iopub.status.idle": "2024-08-13T17:47:21.601310Z",
     "shell.execute_reply": "2024-08-13T17:47:21.600210Z"
    },
    "papermill": {
     "duration": 0.035066,
     "end_time": "2024-08-13T17:47:21.603773",
     "exception": false,
     "start_time": "2024-08-13T17:47:21.568707",
     "status": "completed"
    },
    "tags": []
   },
   "outputs": [
    {
     "data": {
      "text/plain": [
       "Source               0\n",
       "web_scraper_order    0\n",
       "specialization       0\n",
       "fees                 0\n",
       "avg_rate             0\n",
       "waiting_time         0\n",
       "clinic_location      0\n",
       "rate_count           0\n",
       "doctor_views         0\n",
       "dtype: int64"
      ]
     },
     "execution_count": 8,
     "metadata": {},
     "output_type": "execute_result"
    }
   ],
   "source": [
    "#Fill null values in clinc_location\n",
    "data.fillna({'clinic_location':'Other'}, inplace=True)\n",
    "\n",
    "# Drop the pages column  (feature engineering)\n",
    "data.drop('pages', axis=1, inplace=True)\n",
    "\n",
    "#Fill null values in avg_rate\n",
    "data.fillna({'avg_rate':0.0}, inplace=True)\n",
    "\n",
    "#Fill null values in rate_count\n",
    "data.fillna({'rate_count':'Not Rated'}, inplace=True)\n",
    "\n",
    "#Fill null values in waiting_time\n",
    "data.fillna({'waiting_time':'Not available'}, inplace=True)\n",
    "\n",
    "#Fill null values in specialization\n",
    "data.fillna({'specialization':'Other'}, inplace=True)\n",
    "\n",
    "# Display rows with any null values\n",
    "rows_with_nulls = data[data.isnull().any(axis=1)]\n",
    "rows_with_nulls\n",
    "\n",
    "#delete remaining null values\n",
    "data = data.dropna(axis = 0)\n",
    "\n",
    "data.isnull().sum()"
   ]
  },
  {
   "cell_type": "code",
   "execution_count": null,
   "id": "5c3b3103",
   "metadata": {
    "papermill": {
     "duration": 0.006106,
     "end_time": "2024-08-13T17:47:21.616517",
     "exception": false,
     "start_time": "2024-08-13T17:47:21.610411",
     "status": "completed"
    },
    "tags": []
   },
   "outputs": [],
   "source": []
  }
 ],
 "metadata": {
  "kaggle": {
   "accelerator": "none",
   "dataSources": [
    {
     "datasetId": 2921598,
     "sourceId": 5033835,
     "sourceType": "datasetVersion"
    }
   ],
   "dockerImageVersionId": 30746,
   "isGpuEnabled": false,
   "isInternetEnabled": true,
   "language": "python",
   "sourceType": "notebook"
  },
  "kernelspec": {
   "display_name": "Python 3",
   "language": "python",
   "name": "python3"
  },
  "language_info": {
   "codemirror_mode": {
    "name": "ipython",
    "version": 3
   },
   "file_extension": ".py",
   "mimetype": "text/x-python",
   "name": "python",
   "nbconvert_exporter": "python",
   "pygments_lexer": "ipython3",
   "version": "3.10.13"
  },
  "papermill": {
   "default_parameters": {},
   "duration": 6.557001,
   "end_time": "2024-08-13T17:47:22.244592",
   "environment_variables": {},
   "exception": null,
   "input_path": "__notebook__.ipynb",
   "output_path": "__notebook__.ipynb",
   "parameters": {},
   "start_time": "2024-08-13T17:47:15.687591",
   "version": "2.5.0"
  }
 },
 "nbformat": 4,
 "nbformat_minor": 5
}
